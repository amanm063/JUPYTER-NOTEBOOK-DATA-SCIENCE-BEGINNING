{
  "nbformat": 4,
  "nbformat_minor": 0,
  "metadata": {
    "kernelspec": {
      "display_name": "Python 3",
      "language": "python",
      "name": "python3"
    },
    "language_info": {
      "codemirror_mode": {
        "name": "ipython",
        "version": 3
      },
      "file_extension": ".py",
      "mimetype": "text/x-python",
      "name": "python",
      "nbconvert_exporter": "python",
      "pygments_lexer": "ipython3",
      "version": "3.8.1"
    },
    "colab": {
      "name": "4 - Pandas DataFrames exercises.ipynb",
      "provenance": [],
      "collapsed_sections": [
        "uLLpkv18-r03",
        "a8yW_L6C-r07",
        "xPTr6k-6-r1A",
        "AJsGSLOX-r1E",
        "TW1r1qiq-r1I",
        "TyWs_r3a-r1L",
        "IGS6wfI9-r1Q",
        "zYPhS8lj-r1U",
        "6ac_hO8M-r1Y",
        "JIswp24g-r1b",
        "n5ehw9Lc-r1h",
        "2wty7HX--r1l",
        "irPS7XFu-r1p",
        "yIilu7sP-r1t",
        "oxowWGYG-r1y"
      ],
      "include_colab_link": true
    }
  },
  "cells": [
    {
      "cell_type": "markdown",
      "metadata": {
        "id": "view-in-github",
        "colab_type": "text"
      },
      "source": [
        "<a href=\"https://colab.research.google.com/github/amanm063/JUPYTER-NOTEBOOK-DATA-SCIENCE-BEGINNING/blob/master/4_Pandas_DataFrames_exercises.ipynb\" target=\"_parent\"><img src=\"https://colab.research.google.com/assets/colab-badge.svg\" alt=\"Open In Colab\"/></a>"
      ]
    },
    {
      "cell_type": "markdown",
      "metadata": {
        "id": "2kOswdSp-r0C"
      },
      "source": [
        "![rmotr](https://user-images.githubusercontent.com/7065401/52071918-bda15380-2562-11e9-828c-7f95297e4a82.png)\n",
        "<hr style=\"margin-bottom: 40px;\">\n",
        "\n",
        "# Pandas DataFrame exercises\n"
      ]
    },
    {
      "cell_type": "code",
      "metadata": {
        "id": "lvC0GHP5-r0D",
        "outputId": "80c3318a-0d8b-4afe-bbce-8c86b0eea62b",
        "colab": {
          "base_uri": "https://localhost:8080/",
          "height": 34
        }
      },
      "source": [
        "# Import the numpy package under the name np\n",
        "import numpy as np\n",
        "\n",
        "# Import the pandas package under the name pd\n",
        "import pandas as pd\n",
        "\n",
        "# Import the matplotlib package under the name plt\n",
        "import matplotlib.pyplot as plt\n",
        "%matplotlib inline\n",
        "\n",
        "# Print the pandas version and the configuration\n",
        "print(pd.__version__)"
      ],
      "execution_count": 1,
      "outputs": [
        {
          "output_type": "stream",
          "text": [
            "1.1.2\n"
          ],
          "name": "stdout"
        }
      ]
    },
    {
      "cell_type": "markdown",
      "metadata": {
        "id": "zue2pA3G-r0H"
      },
      "source": [
        "![purple-divider](https://user-images.githubusercontent.com/7065401/52071927-c1cd7100-2562-11e9-908a-dde91ba14e59.png)\n",
        "\n",
        "## DataFrame creation"
      ]
    },
    {
      "cell_type": "markdown",
      "metadata": {
        "id": "-uOyIpuN-r0H"
      },
      "source": [
        "### Create an empty pandas DataFrame\n"
      ]
    },
    {
      "cell_type": "code",
      "metadata": {
        "id": "6PPY2jpR-r0I"
      },
      "source": [
        "# your code goes here\n"
      ],
      "execution_count": null,
      "outputs": []
    },
    {
      "cell_type": "code",
      "metadata": {
        "cell_type": "solution",
        "id": "CXYAChO0-r0L",
        "outputId": "181b4aa8-1ab0-4e6e-e06a-32f124377e4b",
        "colab": {
          "base_uri": "https://localhost:8080/",
          "height": 80
        }
      },
      "source": [
        "pd.DataFrame(data=[None],\n",
        "             index=[None],\n",
        "             columns=[None])"
      ],
      "execution_count": 2,
      "outputs": [
        {
          "output_type": "execute_result",
          "data": {
            "text/html": [
              "<div>\n",
              "<style scoped>\n",
              "    .dataframe tbody tr th:only-of-type {\n",
              "        vertical-align: middle;\n",
              "    }\n",
              "\n",
              "    .dataframe tbody tr th {\n",
              "        vertical-align: top;\n",
              "    }\n",
              "\n",
              "    .dataframe thead th {\n",
              "        text-align: right;\n",
              "    }\n",
              "</style>\n",
              "<table border=\"1\" class=\"dataframe\">\n",
              "  <thead>\n",
              "    <tr style=\"text-align: right;\">\n",
              "      <th></th>\n",
              "      <th>NaN</th>\n",
              "    </tr>\n",
              "  </thead>\n",
              "  <tbody>\n",
              "    <tr>\n",
              "      <th>NaN</th>\n",
              "      <td>None</td>\n",
              "    </tr>\n",
              "  </tbody>\n",
              "</table>\n",
              "</div>"
            ],
            "text/plain": [
              "      NaN\n",
              "NaN  None"
            ]
          },
          "metadata": {
            "tags": []
          },
          "execution_count": 2
        }
      ]
    },
    {
      "cell_type": "markdown",
      "metadata": {
        "id": "_O84cWES-r0N"
      },
      "source": [
        "<img width=400 src=\"https://cdn.dribbble.com/users/4678/screenshots/1986600/avengers.png\"></img>"
      ]
    },
    {
      "cell_type": "markdown",
      "metadata": {
        "id": "gF5RbVs--r0N"
      },
      "source": [
        "![green-divider](https://user-images.githubusercontent.com/7065401/52071924-c003ad80-2562-11e9-8297-1c6595f8a7ff.png)\n",
        "\n",
        "### Create a `marvel_df` pandas DataFrame with the given marvel data\n"
      ]
    },
    {
      "cell_type": "code",
      "metadata": {
        "id": "yOQuaye1-r0O"
      },
      "source": [
        "marvel_data = [\n",
        "    ['Spider-Man', 'male', 1962],\n",
        "    ['Captain America', 'male', 1941],\n",
        "    ['Wolverine', 'male', 1974],\n",
        "    ['Iron Man', 'male', 1963],\n",
        "    ['Thor', 'male', 1963],\n",
        "    ['Thing', 'male', 1961],\n",
        "    ['Mister Fantastic', 'male', 1961],\n",
        "    ['Hulk', 'male', 1962],\n",
        "    ['Beast', 'male', 1963],\n",
        "    ['Invisible Woman', 'female', 1961],\n",
        "    ['Storm', 'female', 1975],\n",
        "    ['Namor', 'male', 1939],\n",
        "    ['Hawkeye', 'male', 1964],\n",
        "    ['Daredevil', 'male', 1964],\n",
        "    ['Doctor Strange', 'male', 1963],\n",
        "    ['Hank Pym', 'male', 1962],\n",
        "    ['Scarlet Witch', 'female', 1964],\n",
        "    ['Wasp', 'female', 1963],\n",
        "    ['Black Widow', 'female', 1964],\n",
        "    ['Vision', 'male', 1968]\n",
        "]"
      ],
      "execution_count": 3,
      "outputs": []
    },
    {
      "cell_type": "code",
      "metadata": {
        "id": "Rb6Nm_Mb-r0Q",
        "outputId": "340160aa-975d-43d8-e881-696d77ecf889",
        "colab": {
          "base_uri": "https://localhost:8080/",
          "height": 669
        }
      },
      "source": [
        "# your code goes here\n",
        "marvel_df =pd.DataFrame(data=marvel_data)\n",
        "marvel_df"
      ],
      "execution_count": 5,
      "outputs": [
        {
          "output_type": "execute_result",
          "data": {
            "text/html": [
              "<div>\n",
              "<style scoped>\n",
              "    .dataframe tbody tr th:only-of-type {\n",
              "        vertical-align: middle;\n",
              "    }\n",
              "\n",
              "    .dataframe tbody tr th {\n",
              "        vertical-align: top;\n",
              "    }\n",
              "\n",
              "    .dataframe thead th {\n",
              "        text-align: right;\n",
              "    }\n",
              "</style>\n",
              "<table border=\"1\" class=\"dataframe\">\n",
              "  <thead>\n",
              "    <tr style=\"text-align: right;\">\n",
              "      <th></th>\n",
              "      <th>0</th>\n",
              "      <th>1</th>\n",
              "      <th>2</th>\n",
              "    </tr>\n",
              "  </thead>\n",
              "  <tbody>\n",
              "    <tr>\n",
              "      <th>0</th>\n",
              "      <td>Spider-Man</td>\n",
              "      <td>male</td>\n",
              "      <td>1962</td>\n",
              "    </tr>\n",
              "    <tr>\n",
              "      <th>1</th>\n",
              "      <td>Captain America</td>\n",
              "      <td>male</td>\n",
              "      <td>1941</td>\n",
              "    </tr>\n",
              "    <tr>\n",
              "      <th>2</th>\n",
              "      <td>Wolverine</td>\n",
              "      <td>male</td>\n",
              "      <td>1974</td>\n",
              "    </tr>\n",
              "    <tr>\n",
              "      <th>3</th>\n",
              "      <td>Iron Man</td>\n",
              "      <td>male</td>\n",
              "      <td>1963</td>\n",
              "    </tr>\n",
              "    <tr>\n",
              "      <th>4</th>\n",
              "      <td>Thor</td>\n",
              "      <td>male</td>\n",
              "      <td>1963</td>\n",
              "    </tr>\n",
              "    <tr>\n",
              "      <th>5</th>\n",
              "      <td>Thing</td>\n",
              "      <td>male</td>\n",
              "      <td>1961</td>\n",
              "    </tr>\n",
              "    <tr>\n",
              "      <th>6</th>\n",
              "      <td>Mister Fantastic</td>\n",
              "      <td>male</td>\n",
              "      <td>1961</td>\n",
              "    </tr>\n",
              "    <tr>\n",
              "      <th>7</th>\n",
              "      <td>Hulk</td>\n",
              "      <td>male</td>\n",
              "      <td>1962</td>\n",
              "    </tr>\n",
              "    <tr>\n",
              "      <th>8</th>\n",
              "      <td>Beast</td>\n",
              "      <td>male</td>\n",
              "      <td>1963</td>\n",
              "    </tr>\n",
              "    <tr>\n",
              "      <th>9</th>\n",
              "      <td>Invisible Woman</td>\n",
              "      <td>female</td>\n",
              "      <td>1961</td>\n",
              "    </tr>\n",
              "    <tr>\n",
              "      <th>10</th>\n",
              "      <td>Storm</td>\n",
              "      <td>female</td>\n",
              "      <td>1975</td>\n",
              "    </tr>\n",
              "    <tr>\n",
              "      <th>11</th>\n",
              "      <td>Namor</td>\n",
              "      <td>male</td>\n",
              "      <td>1939</td>\n",
              "    </tr>\n",
              "    <tr>\n",
              "      <th>12</th>\n",
              "      <td>Hawkeye</td>\n",
              "      <td>male</td>\n",
              "      <td>1964</td>\n",
              "    </tr>\n",
              "    <tr>\n",
              "      <th>13</th>\n",
              "      <td>Daredevil</td>\n",
              "      <td>male</td>\n",
              "      <td>1964</td>\n",
              "    </tr>\n",
              "    <tr>\n",
              "      <th>14</th>\n",
              "      <td>Doctor Strange</td>\n",
              "      <td>male</td>\n",
              "      <td>1963</td>\n",
              "    </tr>\n",
              "    <tr>\n",
              "      <th>15</th>\n",
              "      <td>Hank Pym</td>\n",
              "      <td>male</td>\n",
              "      <td>1962</td>\n",
              "    </tr>\n",
              "    <tr>\n",
              "      <th>16</th>\n",
              "      <td>Scarlet Witch</td>\n",
              "      <td>female</td>\n",
              "      <td>1964</td>\n",
              "    </tr>\n",
              "    <tr>\n",
              "      <th>17</th>\n",
              "      <td>Wasp</td>\n",
              "      <td>female</td>\n",
              "      <td>1963</td>\n",
              "    </tr>\n",
              "    <tr>\n",
              "      <th>18</th>\n",
              "      <td>Black Widow</td>\n",
              "      <td>female</td>\n",
              "      <td>1964</td>\n",
              "    </tr>\n",
              "    <tr>\n",
              "      <th>19</th>\n",
              "      <td>Vision</td>\n",
              "      <td>male</td>\n",
              "      <td>1968</td>\n",
              "    </tr>\n",
              "  </tbody>\n",
              "</table>\n",
              "</div>"
            ],
            "text/plain": [
              "                   0       1     2\n",
              "0         Spider-Man    male  1962\n",
              "1    Captain America    male  1941\n",
              "2          Wolverine    male  1974\n",
              "3           Iron Man    male  1963\n",
              "4               Thor    male  1963\n",
              "5              Thing    male  1961\n",
              "6   Mister Fantastic    male  1961\n",
              "7               Hulk    male  1962\n",
              "8              Beast    male  1963\n",
              "9    Invisible Woman  female  1961\n",
              "10             Storm  female  1975\n",
              "11             Namor    male  1939\n",
              "12           Hawkeye    male  1964\n",
              "13         Daredevil    male  1964\n",
              "14    Doctor Strange    male  1963\n",
              "15          Hank Pym    male  1962\n",
              "16     Scarlet Witch  female  1964\n",
              "17              Wasp  female  1963\n",
              "18       Black Widow  female  1964\n",
              "19            Vision    male  1968"
            ]
          },
          "metadata": {
            "tags": []
          },
          "execution_count": 5
        }
      ]
    },
    {
      "cell_type": "code",
      "metadata": {
        "cell_type": "solution",
        "id": "s7bCDEGN-r0S"
      },
      "source": [
        "marvel_df = pd.DataFrame(data=marvel_data)\n",
        "\n",
        "marvel_df"
      ],
      "execution_count": null,
      "outputs": []
    },
    {
      "cell_type": "markdown",
      "metadata": {
        "id": "FcDbTNR2-r0U"
      },
      "source": [
        "![green-divider](https://user-images.githubusercontent.com/7065401/52071924-c003ad80-2562-11e9-8297-1c6595f8a7ff.png)\n",
        "\n",
        "### Add column names to the `marvel_df`\n",
        " "
      ]
    },
    {
      "cell_type": "code",
      "metadata": {
        "id": "M_MeCodc-r0V",
        "outputId": "f71be5c1-e386-45c7-edee-72d63b39a8d5",
        "colab": {
          "base_uri": "https://localhost:8080/",
          "height": 669
        }
      },
      "source": [
        "# your code goes here\n",
        "col_names=(\"name\",\"sex\",\"dob\")\n",
        "marvel_df.columns=col_names\n",
        "marvel_df"
      ],
      "execution_count": 7,
      "outputs": [
        {
          "output_type": "execute_result",
          "data": {
            "text/html": [
              "<div>\n",
              "<style scoped>\n",
              "    .dataframe tbody tr th:only-of-type {\n",
              "        vertical-align: middle;\n",
              "    }\n",
              "\n",
              "    .dataframe tbody tr th {\n",
              "        vertical-align: top;\n",
              "    }\n",
              "\n",
              "    .dataframe thead th {\n",
              "        text-align: right;\n",
              "    }\n",
              "</style>\n",
              "<table border=\"1\" class=\"dataframe\">\n",
              "  <thead>\n",
              "    <tr style=\"text-align: right;\">\n",
              "      <th></th>\n",
              "      <th>name</th>\n",
              "      <th>sex</th>\n",
              "      <th>dob</th>\n",
              "    </tr>\n",
              "  </thead>\n",
              "  <tbody>\n",
              "    <tr>\n",
              "      <th>0</th>\n",
              "      <td>Spider-Man</td>\n",
              "      <td>male</td>\n",
              "      <td>1962</td>\n",
              "    </tr>\n",
              "    <tr>\n",
              "      <th>1</th>\n",
              "      <td>Captain America</td>\n",
              "      <td>male</td>\n",
              "      <td>1941</td>\n",
              "    </tr>\n",
              "    <tr>\n",
              "      <th>2</th>\n",
              "      <td>Wolverine</td>\n",
              "      <td>male</td>\n",
              "      <td>1974</td>\n",
              "    </tr>\n",
              "    <tr>\n",
              "      <th>3</th>\n",
              "      <td>Iron Man</td>\n",
              "      <td>male</td>\n",
              "      <td>1963</td>\n",
              "    </tr>\n",
              "    <tr>\n",
              "      <th>4</th>\n",
              "      <td>Thor</td>\n",
              "      <td>male</td>\n",
              "      <td>1963</td>\n",
              "    </tr>\n",
              "    <tr>\n",
              "      <th>5</th>\n",
              "      <td>Thing</td>\n",
              "      <td>male</td>\n",
              "      <td>1961</td>\n",
              "    </tr>\n",
              "    <tr>\n",
              "      <th>6</th>\n",
              "      <td>Mister Fantastic</td>\n",
              "      <td>male</td>\n",
              "      <td>1961</td>\n",
              "    </tr>\n",
              "    <tr>\n",
              "      <th>7</th>\n",
              "      <td>Hulk</td>\n",
              "      <td>male</td>\n",
              "      <td>1962</td>\n",
              "    </tr>\n",
              "    <tr>\n",
              "      <th>8</th>\n",
              "      <td>Beast</td>\n",
              "      <td>male</td>\n",
              "      <td>1963</td>\n",
              "    </tr>\n",
              "    <tr>\n",
              "      <th>9</th>\n",
              "      <td>Invisible Woman</td>\n",
              "      <td>female</td>\n",
              "      <td>1961</td>\n",
              "    </tr>\n",
              "    <tr>\n",
              "      <th>10</th>\n",
              "      <td>Storm</td>\n",
              "      <td>female</td>\n",
              "      <td>1975</td>\n",
              "    </tr>\n",
              "    <tr>\n",
              "      <th>11</th>\n",
              "      <td>Namor</td>\n",
              "      <td>male</td>\n",
              "      <td>1939</td>\n",
              "    </tr>\n",
              "    <tr>\n",
              "      <th>12</th>\n",
              "      <td>Hawkeye</td>\n",
              "      <td>male</td>\n",
              "      <td>1964</td>\n",
              "    </tr>\n",
              "    <tr>\n",
              "      <th>13</th>\n",
              "      <td>Daredevil</td>\n",
              "      <td>male</td>\n",
              "      <td>1964</td>\n",
              "    </tr>\n",
              "    <tr>\n",
              "      <th>14</th>\n",
              "      <td>Doctor Strange</td>\n",
              "      <td>male</td>\n",
              "      <td>1963</td>\n",
              "    </tr>\n",
              "    <tr>\n",
              "      <th>15</th>\n",
              "      <td>Hank Pym</td>\n",
              "      <td>male</td>\n",
              "      <td>1962</td>\n",
              "    </tr>\n",
              "    <tr>\n",
              "      <th>16</th>\n",
              "      <td>Scarlet Witch</td>\n",
              "      <td>female</td>\n",
              "      <td>1964</td>\n",
              "    </tr>\n",
              "    <tr>\n",
              "      <th>17</th>\n",
              "      <td>Wasp</td>\n",
              "      <td>female</td>\n",
              "      <td>1963</td>\n",
              "    </tr>\n",
              "    <tr>\n",
              "      <th>18</th>\n",
              "      <td>Black Widow</td>\n",
              "      <td>female</td>\n",
              "      <td>1964</td>\n",
              "    </tr>\n",
              "    <tr>\n",
              "      <th>19</th>\n",
              "      <td>Vision</td>\n",
              "      <td>male</td>\n",
              "      <td>1968</td>\n",
              "    </tr>\n",
              "  </tbody>\n",
              "</table>\n",
              "</div>"
            ],
            "text/plain": [
              "                name     sex   dob\n",
              "0         Spider-Man    male  1962\n",
              "1    Captain America    male  1941\n",
              "2          Wolverine    male  1974\n",
              "3           Iron Man    male  1963\n",
              "4               Thor    male  1963\n",
              "5              Thing    male  1961\n",
              "6   Mister Fantastic    male  1961\n",
              "7               Hulk    male  1962\n",
              "8              Beast    male  1963\n",
              "9    Invisible Woman  female  1961\n",
              "10             Storm  female  1975\n",
              "11             Namor    male  1939\n",
              "12           Hawkeye    male  1964\n",
              "13         Daredevil    male  1964\n",
              "14    Doctor Strange    male  1963\n",
              "15          Hank Pym    male  1962\n",
              "16     Scarlet Witch  female  1964\n",
              "17              Wasp  female  1963\n",
              "18       Black Widow  female  1964\n",
              "19            Vision    male  1968"
            ]
          },
          "metadata": {
            "tags": []
          },
          "execution_count": 7
        }
      ]
    },
    {
      "cell_type": "code",
      "metadata": {
        "cell_type": "solution",
        "id": "2MdqlMrw-r0X"
      },
      "source": [
        "col_names = ['name', 'sex', 'first_appearance']\n",
        "\n",
        "marvel_df.columns = col_names\n",
        "marvel_df"
      ],
      "execution_count": null,
      "outputs": []
    },
    {
      "cell_type": "markdown",
      "metadata": {
        "id": "3UWxoYKP-r0Y"
      },
      "source": [
        "![green-divider](https://user-images.githubusercontent.com/7065401/52071924-c003ad80-2562-11e9-8297-1c6595f8a7ff.png)\n",
        "\n",
        "### Add index names to the `marvel_df` (use the character name as index)\n"
      ]
    },
    {
      "cell_type": "code",
      "metadata": {
        "id": "YMfLkpG6-r0Z",
        "outputId": "a5d4a380-a037-425b-d2b3-0e80131a4a9b",
        "colab": {
          "base_uri": "https://localhost:8080/",
          "height": 700
        }
      },
      "source": [
        "# your code goes here\n",
        "marvel_df.index=marvel_df[\"name\"]\n",
        "marvel_df"
      ],
      "execution_count": 8,
      "outputs": [
        {
          "output_type": "execute_result",
          "data": {
            "text/html": [
              "<div>\n",
              "<style scoped>\n",
              "    .dataframe tbody tr th:only-of-type {\n",
              "        vertical-align: middle;\n",
              "    }\n",
              "\n",
              "    .dataframe tbody tr th {\n",
              "        vertical-align: top;\n",
              "    }\n",
              "\n",
              "    .dataframe thead th {\n",
              "        text-align: right;\n",
              "    }\n",
              "</style>\n",
              "<table border=\"1\" class=\"dataframe\">\n",
              "  <thead>\n",
              "    <tr style=\"text-align: right;\">\n",
              "      <th></th>\n",
              "      <th>name</th>\n",
              "      <th>sex</th>\n",
              "      <th>dob</th>\n",
              "    </tr>\n",
              "    <tr>\n",
              "      <th>name</th>\n",
              "      <th></th>\n",
              "      <th></th>\n",
              "      <th></th>\n",
              "    </tr>\n",
              "  </thead>\n",
              "  <tbody>\n",
              "    <tr>\n",
              "      <th>Spider-Man</th>\n",
              "      <td>Spider-Man</td>\n",
              "      <td>male</td>\n",
              "      <td>1962</td>\n",
              "    </tr>\n",
              "    <tr>\n",
              "      <th>Captain America</th>\n",
              "      <td>Captain America</td>\n",
              "      <td>male</td>\n",
              "      <td>1941</td>\n",
              "    </tr>\n",
              "    <tr>\n",
              "      <th>Wolverine</th>\n",
              "      <td>Wolverine</td>\n",
              "      <td>male</td>\n",
              "      <td>1974</td>\n",
              "    </tr>\n",
              "    <tr>\n",
              "      <th>Iron Man</th>\n",
              "      <td>Iron Man</td>\n",
              "      <td>male</td>\n",
              "      <td>1963</td>\n",
              "    </tr>\n",
              "    <tr>\n",
              "      <th>Thor</th>\n",
              "      <td>Thor</td>\n",
              "      <td>male</td>\n",
              "      <td>1963</td>\n",
              "    </tr>\n",
              "    <tr>\n",
              "      <th>Thing</th>\n",
              "      <td>Thing</td>\n",
              "      <td>male</td>\n",
              "      <td>1961</td>\n",
              "    </tr>\n",
              "    <tr>\n",
              "      <th>Mister Fantastic</th>\n",
              "      <td>Mister Fantastic</td>\n",
              "      <td>male</td>\n",
              "      <td>1961</td>\n",
              "    </tr>\n",
              "    <tr>\n",
              "      <th>Hulk</th>\n",
              "      <td>Hulk</td>\n",
              "      <td>male</td>\n",
              "      <td>1962</td>\n",
              "    </tr>\n",
              "    <tr>\n",
              "      <th>Beast</th>\n",
              "      <td>Beast</td>\n",
              "      <td>male</td>\n",
              "      <td>1963</td>\n",
              "    </tr>\n",
              "    <tr>\n",
              "      <th>Invisible Woman</th>\n",
              "      <td>Invisible Woman</td>\n",
              "      <td>female</td>\n",
              "      <td>1961</td>\n",
              "    </tr>\n",
              "    <tr>\n",
              "      <th>Storm</th>\n",
              "      <td>Storm</td>\n",
              "      <td>female</td>\n",
              "      <td>1975</td>\n",
              "    </tr>\n",
              "    <tr>\n",
              "      <th>Namor</th>\n",
              "      <td>Namor</td>\n",
              "      <td>male</td>\n",
              "      <td>1939</td>\n",
              "    </tr>\n",
              "    <tr>\n",
              "      <th>Hawkeye</th>\n",
              "      <td>Hawkeye</td>\n",
              "      <td>male</td>\n",
              "      <td>1964</td>\n",
              "    </tr>\n",
              "    <tr>\n",
              "      <th>Daredevil</th>\n",
              "      <td>Daredevil</td>\n",
              "      <td>male</td>\n",
              "      <td>1964</td>\n",
              "    </tr>\n",
              "    <tr>\n",
              "      <th>Doctor Strange</th>\n",
              "      <td>Doctor Strange</td>\n",
              "      <td>male</td>\n",
              "      <td>1963</td>\n",
              "    </tr>\n",
              "    <tr>\n",
              "      <th>Hank Pym</th>\n",
              "      <td>Hank Pym</td>\n",
              "      <td>male</td>\n",
              "      <td>1962</td>\n",
              "    </tr>\n",
              "    <tr>\n",
              "      <th>Scarlet Witch</th>\n",
              "      <td>Scarlet Witch</td>\n",
              "      <td>female</td>\n",
              "      <td>1964</td>\n",
              "    </tr>\n",
              "    <tr>\n",
              "      <th>Wasp</th>\n",
              "      <td>Wasp</td>\n",
              "      <td>female</td>\n",
              "      <td>1963</td>\n",
              "    </tr>\n",
              "    <tr>\n",
              "      <th>Black Widow</th>\n",
              "      <td>Black Widow</td>\n",
              "      <td>female</td>\n",
              "      <td>1964</td>\n",
              "    </tr>\n",
              "    <tr>\n",
              "      <th>Vision</th>\n",
              "      <td>Vision</td>\n",
              "      <td>male</td>\n",
              "      <td>1968</td>\n",
              "    </tr>\n",
              "  </tbody>\n",
              "</table>\n",
              "</div>"
            ],
            "text/plain": [
              "                              name     sex   dob\n",
              "name                                            \n",
              "Spider-Man              Spider-Man    male  1962\n",
              "Captain America    Captain America    male  1941\n",
              "Wolverine                Wolverine    male  1974\n",
              "Iron Man                  Iron Man    male  1963\n",
              "Thor                          Thor    male  1963\n",
              "Thing                        Thing    male  1961\n",
              "Mister Fantastic  Mister Fantastic    male  1961\n",
              "Hulk                          Hulk    male  1962\n",
              "Beast                        Beast    male  1963\n",
              "Invisible Woman    Invisible Woman  female  1961\n",
              "Storm                        Storm  female  1975\n",
              "Namor                        Namor    male  1939\n",
              "Hawkeye                    Hawkeye    male  1964\n",
              "Daredevil                Daredevil    male  1964\n",
              "Doctor Strange      Doctor Strange    male  1963\n",
              "Hank Pym                  Hank Pym    male  1962\n",
              "Scarlet Witch        Scarlet Witch  female  1964\n",
              "Wasp                          Wasp  female  1963\n",
              "Black Widow            Black Widow  female  1964\n",
              "Vision                      Vision    male  1968"
            ]
          },
          "metadata": {
            "tags": []
          },
          "execution_count": 8
        }
      ]
    },
    {
      "cell_type": "code",
      "metadata": {
        "cell_type": "solution",
        "id": "BMWQyjKb-r0b"
      },
      "source": [
        "marvel_df.index = marvel_df['name']\n",
        "marvel_df"
      ],
      "execution_count": null,
      "outputs": []
    },
    {
      "cell_type": "markdown",
      "metadata": {
        "id": "bKknsaJQ-r0d"
      },
      "source": [
        "![green-divider](https://user-images.githubusercontent.com/7065401/52071924-c003ad80-2562-11e9-8297-1c6595f8a7ff.png)\n",
        "\n",
        "### Drop the name column as it's now the index"
      ]
    },
    {
      "cell_type": "code",
      "metadata": {
        "id": "Ae6N4EV5-r0e"
      },
      "source": [
        "# your code goes here\n"
      ],
      "execution_count": null,
      "outputs": []
    },
    {
      "cell_type": "code",
      "metadata": {
        "cell_type": "solution",
        "id": "8SFkZK11-r0g",
        "outputId": "51c12f5e-63b1-4619-b616-f3718903ca07",
        "colab": {
          "base_uri": "https://localhost:8080/",
          "height": 700
        }
      },
      "source": [
        "#marvel_df = marvel_df.drop(columns=['name'])\n",
        "marvel_df = marvel_df.drop(['name'], axis=1)\n",
        "marvel_df"
      ],
      "execution_count": 9,
      "outputs": [
        {
          "output_type": "execute_result",
          "data": {
            "text/html": [
              "<div>\n",
              "<style scoped>\n",
              "    .dataframe tbody tr th:only-of-type {\n",
              "        vertical-align: middle;\n",
              "    }\n",
              "\n",
              "    .dataframe tbody tr th {\n",
              "        vertical-align: top;\n",
              "    }\n",
              "\n",
              "    .dataframe thead th {\n",
              "        text-align: right;\n",
              "    }\n",
              "</style>\n",
              "<table border=\"1\" class=\"dataframe\">\n",
              "  <thead>\n",
              "    <tr style=\"text-align: right;\">\n",
              "      <th></th>\n",
              "      <th>sex</th>\n",
              "      <th>dob</th>\n",
              "    </tr>\n",
              "    <tr>\n",
              "      <th>name</th>\n",
              "      <th></th>\n",
              "      <th></th>\n",
              "    </tr>\n",
              "  </thead>\n",
              "  <tbody>\n",
              "    <tr>\n",
              "      <th>Spider-Man</th>\n",
              "      <td>male</td>\n",
              "      <td>1962</td>\n",
              "    </tr>\n",
              "    <tr>\n",
              "      <th>Captain America</th>\n",
              "      <td>male</td>\n",
              "      <td>1941</td>\n",
              "    </tr>\n",
              "    <tr>\n",
              "      <th>Wolverine</th>\n",
              "      <td>male</td>\n",
              "      <td>1974</td>\n",
              "    </tr>\n",
              "    <tr>\n",
              "      <th>Iron Man</th>\n",
              "      <td>male</td>\n",
              "      <td>1963</td>\n",
              "    </tr>\n",
              "    <tr>\n",
              "      <th>Thor</th>\n",
              "      <td>male</td>\n",
              "      <td>1963</td>\n",
              "    </tr>\n",
              "    <tr>\n",
              "      <th>Thing</th>\n",
              "      <td>male</td>\n",
              "      <td>1961</td>\n",
              "    </tr>\n",
              "    <tr>\n",
              "      <th>Mister Fantastic</th>\n",
              "      <td>male</td>\n",
              "      <td>1961</td>\n",
              "    </tr>\n",
              "    <tr>\n",
              "      <th>Hulk</th>\n",
              "      <td>male</td>\n",
              "      <td>1962</td>\n",
              "    </tr>\n",
              "    <tr>\n",
              "      <th>Beast</th>\n",
              "      <td>male</td>\n",
              "      <td>1963</td>\n",
              "    </tr>\n",
              "    <tr>\n",
              "      <th>Invisible Woman</th>\n",
              "      <td>female</td>\n",
              "      <td>1961</td>\n",
              "    </tr>\n",
              "    <tr>\n",
              "      <th>Storm</th>\n",
              "      <td>female</td>\n",
              "      <td>1975</td>\n",
              "    </tr>\n",
              "    <tr>\n",
              "      <th>Namor</th>\n",
              "      <td>male</td>\n",
              "      <td>1939</td>\n",
              "    </tr>\n",
              "    <tr>\n",
              "      <th>Hawkeye</th>\n",
              "      <td>male</td>\n",
              "      <td>1964</td>\n",
              "    </tr>\n",
              "    <tr>\n",
              "      <th>Daredevil</th>\n",
              "      <td>male</td>\n",
              "      <td>1964</td>\n",
              "    </tr>\n",
              "    <tr>\n",
              "      <th>Doctor Strange</th>\n",
              "      <td>male</td>\n",
              "      <td>1963</td>\n",
              "    </tr>\n",
              "    <tr>\n",
              "      <th>Hank Pym</th>\n",
              "      <td>male</td>\n",
              "      <td>1962</td>\n",
              "    </tr>\n",
              "    <tr>\n",
              "      <th>Scarlet Witch</th>\n",
              "      <td>female</td>\n",
              "      <td>1964</td>\n",
              "    </tr>\n",
              "    <tr>\n",
              "      <th>Wasp</th>\n",
              "      <td>female</td>\n",
              "      <td>1963</td>\n",
              "    </tr>\n",
              "    <tr>\n",
              "      <th>Black Widow</th>\n",
              "      <td>female</td>\n",
              "      <td>1964</td>\n",
              "    </tr>\n",
              "    <tr>\n",
              "      <th>Vision</th>\n",
              "      <td>male</td>\n",
              "      <td>1968</td>\n",
              "    </tr>\n",
              "  </tbody>\n",
              "</table>\n",
              "</div>"
            ],
            "text/plain": [
              "                     sex   dob\n",
              "name                          \n",
              "Spider-Man          male  1962\n",
              "Captain America     male  1941\n",
              "Wolverine           male  1974\n",
              "Iron Man            male  1963\n",
              "Thor                male  1963\n",
              "Thing               male  1961\n",
              "Mister Fantastic    male  1961\n",
              "Hulk                male  1962\n",
              "Beast               male  1963\n",
              "Invisible Woman   female  1961\n",
              "Storm             female  1975\n",
              "Namor               male  1939\n",
              "Hawkeye             male  1964\n",
              "Daredevil           male  1964\n",
              "Doctor Strange      male  1963\n",
              "Hank Pym            male  1962\n",
              "Scarlet Witch     female  1964\n",
              "Wasp              female  1963\n",
              "Black Widow       female  1964\n",
              "Vision              male  1968"
            ]
          },
          "metadata": {
            "tags": []
          },
          "execution_count": 9
        }
      ]
    },
    {
      "cell_type": "markdown",
      "metadata": {
        "id": "r_TI6ONA-r0i"
      },
      "source": [
        "![green-divider](https://user-images.githubusercontent.com/7065401/52071924-c003ad80-2562-11e9-8297-1c6595f8a7ff.png)\n",
        "\n",
        "### Drop 'Namor' and 'Hank Pym' rows\n"
      ]
    },
    {
      "cell_type": "code",
      "metadata": {
        "id": "gU_zG0HY-r0j"
      },
      "source": [
        "# your code goes here\n"
      ],
      "execution_count": null,
      "outputs": []
    },
    {
      "cell_type": "code",
      "metadata": {
        "cell_type": "solution",
        "id": "S9atCa38-r0l",
        "outputId": "7e63c2ac-caae-4f92-9eb4-587a5f6aa37f",
        "colab": {
          "base_uri": "https://localhost:8080/",
          "height": 638
        }
      },
      "source": [
        "marvel_df = marvel_df.drop(['Namor', 'Hank Pym'], axis=0)\n",
        "marvel_df"
      ],
      "execution_count": 10,
      "outputs": [
        {
          "output_type": "execute_result",
          "data": {
            "text/html": [
              "<div>\n",
              "<style scoped>\n",
              "    .dataframe tbody tr th:only-of-type {\n",
              "        vertical-align: middle;\n",
              "    }\n",
              "\n",
              "    .dataframe tbody tr th {\n",
              "        vertical-align: top;\n",
              "    }\n",
              "\n",
              "    .dataframe thead th {\n",
              "        text-align: right;\n",
              "    }\n",
              "</style>\n",
              "<table border=\"1\" class=\"dataframe\">\n",
              "  <thead>\n",
              "    <tr style=\"text-align: right;\">\n",
              "      <th></th>\n",
              "      <th>sex</th>\n",
              "      <th>dob</th>\n",
              "    </tr>\n",
              "    <tr>\n",
              "      <th>name</th>\n",
              "      <th></th>\n",
              "      <th></th>\n",
              "    </tr>\n",
              "  </thead>\n",
              "  <tbody>\n",
              "    <tr>\n",
              "      <th>Spider-Man</th>\n",
              "      <td>male</td>\n",
              "      <td>1962</td>\n",
              "    </tr>\n",
              "    <tr>\n",
              "      <th>Captain America</th>\n",
              "      <td>male</td>\n",
              "      <td>1941</td>\n",
              "    </tr>\n",
              "    <tr>\n",
              "      <th>Wolverine</th>\n",
              "      <td>male</td>\n",
              "      <td>1974</td>\n",
              "    </tr>\n",
              "    <tr>\n",
              "      <th>Iron Man</th>\n",
              "      <td>male</td>\n",
              "      <td>1963</td>\n",
              "    </tr>\n",
              "    <tr>\n",
              "      <th>Thor</th>\n",
              "      <td>male</td>\n",
              "      <td>1963</td>\n",
              "    </tr>\n",
              "    <tr>\n",
              "      <th>Thing</th>\n",
              "      <td>male</td>\n",
              "      <td>1961</td>\n",
              "    </tr>\n",
              "    <tr>\n",
              "      <th>Mister Fantastic</th>\n",
              "      <td>male</td>\n",
              "      <td>1961</td>\n",
              "    </tr>\n",
              "    <tr>\n",
              "      <th>Hulk</th>\n",
              "      <td>male</td>\n",
              "      <td>1962</td>\n",
              "    </tr>\n",
              "    <tr>\n",
              "      <th>Beast</th>\n",
              "      <td>male</td>\n",
              "      <td>1963</td>\n",
              "    </tr>\n",
              "    <tr>\n",
              "      <th>Invisible Woman</th>\n",
              "      <td>female</td>\n",
              "      <td>1961</td>\n",
              "    </tr>\n",
              "    <tr>\n",
              "      <th>Storm</th>\n",
              "      <td>female</td>\n",
              "      <td>1975</td>\n",
              "    </tr>\n",
              "    <tr>\n",
              "      <th>Hawkeye</th>\n",
              "      <td>male</td>\n",
              "      <td>1964</td>\n",
              "    </tr>\n",
              "    <tr>\n",
              "      <th>Daredevil</th>\n",
              "      <td>male</td>\n",
              "      <td>1964</td>\n",
              "    </tr>\n",
              "    <tr>\n",
              "      <th>Doctor Strange</th>\n",
              "      <td>male</td>\n",
              "      <td>1963</td>\n",
              "    </tr>\n",
              "    <tr>\n",
              "      <th>Scarlet Witch</th>\n",
              "      <td>female</td>\n",
              "      <td>1964</td>\n",
              "    </tr>\n",
              "    <tr>\n",
              "      <th>Wasp</th>\n",
              "      <td>female</td>\n",
              "      <td>1963</td>\n",
              "    </tr>\n",
              "    <tr>\n",
              "      <th>Black Widow</th>\n",
              "      <td>female</td>\n",
              "      <td>1964</td>\n",
              "    </tr>\n",
              "    <tr>\n",
              "      <th>Vision</th>\n",
              "      <td>male</td>\n",
              "      <td>1968</td>\n",
              "    </tr>\n",
              "  </tbody>\n",
              "</table>\n",
              "</div>"
            ],
            "text/plain": [
              "                     sex   dob\n",
              "name                          \n",
              "Spider-Man          male  1962\n",
              "Captain America     male  1941\n",
              "Wolverine           male  1974\n",
              "Iron Man            male  1963\n",
              "Thor                male  1963\n",
              "Thing               male  1961\n",
              "Mister Fantastic    male  1961\n",
              "Hulk                male  1962\n",
              "Beast               male  1963\n",
              "Invisible Woman   female  1961\n",
              "Storm             female  1975\n",
              "Hawkeye             male  1964\n",
              "Daredevil           male  1964\n",
              "Doctor Strange      male  1963\n",
              "Scarlet Witch     female  1964\n",
              "Wasp              female  1963\n",
              "Black Widow       female  1964\n",
              "Vision              male  1968"
            ]
          },
          "metadata": {
            "tags": []
          },
          "execution_count": 10
        }
      ]
    },
    {
      "cell_type": "markdown",
      "metadata": {
        "id": "Aa_Kdh7X-r0n"
      },
      "source": [
        "![purple-divider](https://user-images.githubusercontent.com/7065401/52071927-c1cd7100-2562-11e9-908a-dde91ba14e59.png)\n",
        "\n",
        "## DataFrame selection, slicing and indexation"
      ]
    },
    {
      "cell_type": "markdown",
      "metadata": {
        "id": "nOp82VFb-r0n"
      },
      "source": [
        "### Show the first 5 elements on `marvel_df`\n",
        " "
      ]
    },
    {
      "cell_type": "code",
      "metadata": {
        "id": "ANdVV8SC-r0o",
        "outputId": "2aec5db5-b396-425a-84e9-7007269b4b39",
        "colab": {
          "base_uri": "https://localhost:8080/",
          "height": 235
        }
      },
      "source": [
        "# your code goes here\n",
        "marvel_df.head()"
      ],
      "execution_count": 11,
      "outputs": [
        {
          "output_type": "execute_result",
          "data": {
            "text/html": [
              "<div>\n",
              "<style scoped>\n",
              "    .dataframe tbody tr th:only-of-type {\n",
              "        vertical-align: middle;\n",
              "    }\n",
              "\n",
              "    .dataframe tbody tr th {\n",
              "        vertical-align: top;\n",
              "    }\n",
              "\n",
              "    .dataframe thead th {\n",
              "        text-align: right;\n",
              "    }\n",
              "</style>\n",
              "<table border=\"1\" class=\"dataframe\">\n",
              "  <thead>\n",
              "    <tr style=\"text-align: right;\">\n",
              "      <th></th>\n",
              "      <th>sex</th>\n",
              "      <th>dob</th>\n",
              "    </tr>\n",
              "    <tr>\n",
              "      <th>name</th>\n",
              "      <th></th>\n",
              "      <th></th>\n",
              "    </tr>\n",
              "  </thead>\n",
              "  <tbody>\n",
              "    <tr>\n",
              "      <th>Spider-Man</th>\n",
              "      <td>male</td>\n",
              "      <td>1962</td>\n",
              "    </tr>\n",
              "    <tr>\n",
              "      <th>Captain America</th>\n",
              "      <td>male</td>\n",
              "      <td>1941</td>\n",
              "    </tr>\n",
              "    <tr>\n",
              "      <th>Wolverine</th>\n",
              "      <td>male</td>\n",
              "      <td>1974</td>\n",
              "    </tr>\n",
              "    <tr>\n",
              "      <th>Iron Man</th>\n",
              "      <td>male</td>\n",
              "      <td>1963</td>\n",
              "    </tr>\n",
              "    <tr>\n",
              "      <th>Thor</th>\n",
              "      <td>male</td>\n",
              "      <td>1963</td>\n",
              "    </tr>\n",
              "  </tbody>\n",
              "</table>\n",
              "</div>"
            ],
            "text/plain": [
              "                  sex   dob\n",
              "name                       \n",
              "Spider-Man       male  1962\n",
              "Captain America  male  1941\n",
              "Wolverine        male  1974\n",
              "Iron Man         male  1963\n",
              "Thor             male  1963"
            ]
          },
          "metadata": {
            "tags": []
          },
          "execution_count": 11
        }
      ]
    },
    {
      "cell_type": "code",
      "metadata": {
        "cell_type": "solution",
        "id": "NEfELGsy-r0p"
      },
      "source": [
        "#marvel_df.loc[['Spider-Man', 'Captain America', 'Wolverine', 'Iron Man', 'Thor'], :] # bad!\n",
        "#marvel_df.loc['Spider-Man': 'Thor', :]\n",
        "#marvel_df.iloc[0:5, :]\n",
        "#marvel_df.iloc[0:5,]\n",
        "marvel_df.iloc[:5,]\n",
        "#marvel_df.head()"
      ],
      "execution_count": null,
      "outputs": []
    },
    {
      "cell_type": "markdown",
      "metadata": {
        "id": "eqCXyBxh-r0s"
      },
      "source": [
        "![green-divider](https://user-images.githubusercontent.com/7065401/52071924-c003ad80-2562-11e9-8297-1c6595f8a7ff.png)\n",
        "\n",
        "### Show the last 5 elements on `marvel_df`\n"
      ]
    },
    {
      "cell_type": "code",
      "metadata": {
        "id": "XboqtxD2-r0s",
        "outputId": "44fc0852-6266-400c-d4cc-f0f4b9913729",
        "colab": {
          "base_uri": "https://localhost:8080/",
          "height": 235
        }
      },
      "source": [
        "# your code goes here\n",
        "marvel_df.tail()"
      ],
      "execution_count": 13,
      "outputs": [
        {
          "output_type": "execute_result",
          "data": {
            "text/html": [
              "<div>\n",
              "<style scoped>\n",
              "    .dataframe tbody tr th:only-of-type {\n",
              "        vertical-align: middle;\n",
              "    }\n",
              "\n",
              "    .dataframe tbody tr th {\n",
              "        vertical-align: top;\n",
              "    }\n",
              "\n",
              "    .dataframe thead th {\n",
              "        text-align: right;\n",
              "    }\n",
              "</style>\n",
              "<table border=\"1\" class=\"dataframe\">\n",
              "  <thead>\n",
              "    <tr style=\"text-align: right;\">\n",
              "      <th></th>\n",
              "      <th>sex</th>\n",
              "      <th>dob</th>\n",
              "    </tr>\n",
              "    <tr>\n",
              "      <th>name</th>\n",
              "      <th></th>\n",
              "      <th></th>\n",
              "    </tr>\n",
              "  </thead>\n",
              "  <tbody>\n",
              "    <tr>\n",
              "      <th>Doctor Strange</th>\n",
              "      <td>male</td>\n",
              "      <td>1963</td>\n",
              "    </tr>\n",
              "    <tr>\n",
              "      <th>Scarlet Witch</th>\n",
              "      <td>female</td>\n",
              "      <td>1964</td>\n",
              "    </tr>\n",
              "    <tr>\n",
              "      <th>Wasp</th>\n",
              "      <td>female</td>\n",
              "      <td>1963</td>\n",
              "    </tr>\n",
              "    <tr>\n",
              "      <th>Black Widow</th>\n",
              "      <td>female</td>\n",
              "      <td>1964</td>\n",
              "    </tr>\n",
              "    <tr>\n",
              "      <th>Vision</th>\n",
              "      <td>male</td>\n",
              "      <td>1968</td>\n",
              "    </tr>\n",
              "  </tbody>\n",
              "</table>\n",
              "</div>"
            ],
            "text/plain": [
              "                   sex   dob\n",
              "name                        \n",
              "Doctor Strange    male  1963\n",
              "Scarlet Witch   female  1964\n",
              "Wasp            female  1963\n",
              "Black Widow     female  1964\n",
              "Vision            male  1968"
            ]
          },
          "metadata": {
            "tags": []
          },
          "execution_count": 13
        }
      ]
    },
    {
      "cell_type": "code",
      "metadata": {
        "cell_type": "solution",
        "id": "e8Q-LZS2-r0u"
      },
      "source": [
        "#marvel_df.loc[['Hank Pym', 'Scarlet Witch', 'Wasp', 'Black Widow', 'Vision'], :] # bad!\n",
        "#marvel_df.loc['Hank Pym':'Vision', :]\n",
        "marvel_df.iloc[-5:,]\n",
        "#marvel_df.tail()"
      ],
      "execution_count": null,
      "outputs": []
    },
    {
      "cell_type": "markdown",
      "metadata": {
        "id": "yivNM6wt-r0w"
      },
      "source": [
        "![green-divider](https://user-images.githubusercontent.com/7065401/52071924-c003ad80-2562-11e9-8297-1c6595f8a7ff.png)\n",
        "\n",
        "### Show just the sex of the first 5 elements on `marvel_df`"
      ]
    },
    {
      "cell_type": "code",
      "metadata": {
        "id": "UGTFXmz0-r0w",
        "outputId": "9a0d8911-963c-493a-8076-6548769576a6",
        "colab": {
          "base_uri": "https://localhost:8080/",
          "height": 323
        }
      },
      "source": [
        "# your code goes here\n",
        "marvel_df.head(\"sex\")"
      ],
      "execution_count": 14,
      "outputs": [
        {
          "output_type": "error",
          "ename": "TypeError",
          "evalue": "ignored",
          "traceback": [
            "\u001b[0;31m---------------------------------------------------------------------------\u001b[0m",
            "\u001b[0;31mTypeError\u001b[0m                                 Traceback (most recent call last)",
            "\u001b[0;32m<ipython-input-14-b83a4b94aa3c>\u001b[0m in \u001b[0;36m<module>\u001b[0;34m()\u001b[0m\n\u001b[1;32m      1\u001b[0m \u001b[0;31m# your code goes here\u001b[0m\u001b[0;34m\u001b[0m\u001b[0;34m\u001b[0m\u001b[0;34m\u001b[0m\u001b[0m\n\u001b[0;32m----> 2\u001b[0;31m \u001b[0mmarvel_df\u001b[0m\u001b[0;34m.\u001b[0m\u001b[0mhead\u001b[0m\u001b[0;34m(\u001b[0m\u001b[0;34m\"sex\"\u001b[0m\u001b[0;34m)\u001b[0m\u001b[0;34m\u001b[0m\u001b[0;34m\u001b[0m\u001b[0m\n\u001b[0m",
            "\u001b[0;32m/usr/local/lib/python3.6/dist-packages/pandas/core/generic.py\u001b[0m in \u001b[0;36mhead\u001b[0;34m(self, n)\u001b[0m\n\u001b[1;32m   4707\u001b[0m         \u001b[0;36m5\u001b[0m     \u001b[0mparrot\u001b[0m\u001b[0;34m\u001b[0m\u001b[0;34m\u001b[0m\u001b[0m\n\u001b[1;32m   4708\u001b[0m         \"\"\"\n\u001b[0;32m-> 4709\u001b[0;31m         \u001b[0;32mreturn\u001b[0m \u001b[0mself\u001b[0m\u001b[0;34m.\u001b[0m\u001b[0miloc\u001b[0m\u001b[0;34m[\u001b[0m\u001b[0;34m:\u001b[0m\u001b[0mn\u001b[0m\u001b[0;34m]\u001b[0m\u001b[0;34m\u001b[0m\u001b[0;34m\u001b[0m\u001b[0m\n\u001b[0m\u001b[1;32m   4710\u001b[0m \u001b[0;34m\u001b[0m\u001b[0m\n\u001b[1;32m   4711\u001b[0m     \u001b[0;32mdef\u001b[0m \u001b[0mtail\u001b[0m\u001b[0;34m(\u001b[0m\u001b[0mself\u001b[0m\u001b[0;34m:\u001b[0m \u001b[0mFrameOrSeries\u001b[0m\u001b[0;34m,\u001b[0m \u001b[0mn\u001b[0m\u001b[0;34m:\u001b[0m \u001b[0mint\u001b[0m \u001b[0;34m=\u001b[0m \u001b[0;36m5\u001b[0m\u001b[0;34m)\u001b[0m \u001b[0;34m->\u001b[0m \u001b[0mFrameOrSeries\u001b[0m\u001b[0;34m:\u001b[0m\u001b[0;34m\u001b[0m\u001b[0;34m\u001b[0m\u001b[0m\n",
            "\u001b[0;32m/usr/local/lib/python3.6/dist-packages/pandas/core/indexing.py\u001b[0m in \u001b[0;36m__getitem__\u001b[0;34m(self, key)\u001b[0m\n\u001b[1;32m    877\u001b[0m \u001b[0;34m\u001b[0m\u001b[0m\n\u001b[1;32m    878\u001b[0m             \u001b[0mmaybe_callable\u001b[0m \u001b[0;34m=\u001b[0m \u001b[0mcom\u001b[0m\u001b[0;34m.\u001b[0m\u001b[0mapply_if_callable\u001b[0m\u001b[0;34m(\u001b[0m\u001b[0mkey\u001b[0m\u001b[0;34m,\u001b[0m \u001b[0mself\u001b[0m\u001b[0;34m.\u001b[0m\u001b[0mobj\u001b[0m\u001b[0;34m)\u001b[0m\u001b[0;34m\u001b[0m\u001b[0;34m\u001b[0m\u001b[0m\n\u001b[0;32m--> 879\u001b[0;31m             \u001b[0;32mreturn\u001b[0m \u001b[0mself\u001b[0m\u001b[0;34m.\u001b[0m\u001b[0m_getitem_axis\u001b[0m\u001b[0;34m(\u001b[0m\u001b[0mmaybe_callable\u001b[0m\u001b[0;34m,\u001b[0m \u001b[0maxis\u001b[0m\u001b[0;34m=\u001b[0m\u001b[0maxis\u001b[0m\u001b[0;34m)\u001b[0m\u001b[0;34m\u001b[0m\u001b[0;34m\u001b[0m\u001b[0m\n\u001b[0m\u001b[1;32m    880\u001b[0m \u001b[0;34m\u001b[0m\u001b[0m\n\u001b[1;32m    881\u001b[0m     \u001b[0;32mdef\u001b[0m \u001b[0m_is_scalar_access\u001b[0m\u001b[0;34m(\u001b[0m\u001b[0mself\u001b[0m\u001b[0;34m,\u001b[0m \u001b[0mkey\u001b[0m\u001b[0;34m:\u001b[0m \u001b[0mTuple\u001b[0m\u001b[0;34m)\u001b[0m\u001b[0;34m:\u001b[0m\u001b[0;34m\u001b[0m\u001b[0;34m\u001b[0m\u001b[0m\n",
            "\u001b[0;32m/usr/local/lib/python3.6/dist-packages/pandas/core/indexing.py\u001b[0m in \u001b[0;36m_getitem_axis\u001b[0;34m(self, key, axis)\u001b[0m\n\u001b[1;32m   1474\u001b[0m     \u001b[0;32mdef\u001b[0m \u001b[0m_getitem_axis\u001b[0m\u001b[0;34m(\u001b[0m\u001b[0mself\u001b[0m\u001b[0;34m,\u001b[0m \u001b[0mkey\u001b[0m\u001b[0;34m,\u001b[0m \u001b[0maxis\u001b[0m\u001b[0;34m:\u001b[0m \u001b[0mint\u001b[0m\u001b[0;34m)\u001b[0m\u001b[0;34m:\u001b[0m\u001b[0;34m\u001b[0m\u001b[0;34m\u001b[0m\u001b[0m\n\u001b[1;32m   1475\u001b[0m         \u001b[0;32mif\u001b[0m \u001b[0misinstance\u001b[0m\u001b[0;34m(\u001b[0m\u001b[0mkey\u001b[0m\u001b[0;34m,\u001b[0m \u001b[0mslice\u001b[0m\u001b[0;34m)\u001b[0m\u001b[0;34m:\u001b[0m\u001b[0;34m\u001b[0m\u001b[0;34m\u001b[0m\u001b[0m\n\u001b[0;32m-> 1476\u001b[0;31m             \u001b[0;32mreturn\u001b[0m \u001b[0mself\u001b[0m\u001b[0;34m.\u001b[0m\u001b[0m_get_slice_axis\u001b[0m\u001b[0;34m(\u001b[0m\u001b[0mkey\u001b[0m\u001b[0;34m,\u001b[0m \u001b[0maxis\u001b[0m\u001b[0;34m=\u001b[0m\u001b[0maxis\u001b[0m\u001b[0;34m)\u001b[0m\u001b[0;34m\u001b[0m\u001b[0;34m\u001b[0m\u001b[0m\n\u001b[0m\u001b[1;32m   1477\u001b[0m \u001b[0;34m\u001b[0m\u001b[0m\n\u001b[1;32m   1478\u001b[0m         \u001b[0;32mif\u001b[0m \u001b[0misinstance\u001b[0m\u001b[0;34m(\u001b[0m\u001b[0mkey\u001b[0m\u001b[0;34m,\u001b[0m \u001b[0mlist\u001b[0m\u001b[0;34m)\u001b[0m\u001b[0;34m:\u001b[0m\u001b[0;34m\u001b[0m\u001b[0;34m\u001b[0m\u001b[0m\n",
            "\u001b[0;32m/usr/local/lib/python3.6/dist-packages/pandas/core/indexing.py\u001b[0m in \u001b[0;36m_get_slice_axis\u001b[0;34m(self, slice_obj, axis)\u001b[0m\n\u001b[1;32m   1506\u001b[0m \u001b[0;34m\u001b[0m\u001b[0m\n\u001b[1;32m   1507\u001b[0m         \u001b[0mlabels\u001b[0m \u001b[0;34m=\u001b[0m \u001b[0mobj\u001b[0m\u001b[0;34m.\u001b[0m\u001b[0m_get_axis\u001b[0m\u001b[0;34m(\u001b[0m\u001b[0maxis\u001b[0m\u001b[0;34m)\u001b[0m\u001b[0;34m\u001b[0m\u001b[0;34m\u001b[0m\u001b[0m\n\u001b[0;32m-> 1508\u001b[0;31m         \u001b[0mlabels\u001b[0m\u001b[0;34m.\u001b[0m\u001b[0m_validate_positional_slice\u001b[0m\u001b[0;34m(\u001b[0m\u001b[0mslice_obj\u001b[0m\u001b[0;34m)\u001b[0m\u001b[0;34m\u001b[0m\u001b[0;34m\u001b[0m\u001b[0m\n\u001b[0m\u001b[1;32m   1509\u001b[0m         \u001b[0;32mreturn\u001b[0m \u001b[0mself\u001b[0m\u001b[0;34m.\u001b[0m\u001b[0mobj\u001b[0m\u001b[0;34m.\u001b[0m\u001b[0m_slice\u001b[0m\u001b[0;34m(\u001b[0m\u001b[0mslice_obj\u001b[0m\u001b[0;34m,\u001b[0m \u001b[0maxis\u001b[0m\u001b[0;34m=\u001b[0m\u001b[0maxis\u001b[0m\u001b[0;34m)\u001b[0m\u001b[0;34m\u001b[0m\u001b[0;34m\u001b[0m\u001b[0m\n\u001b[1;32m   1510\u001b[0m \u001b[0;34m\u001b[0m\u001b[0m\n",
            "\u001b[0;32m/usr/local/lib/python3.6/dist-packages/pandas/core/indexes/base.py\u001b[0m in \u001b[0;36m_validate_positional_slice\u001b[0;34m(self, key)\u001b[0m\n\u001b[1;32m   3115\u001b[0m         \"\"\"\n\u001b[1;32m   3116\u001b[0m         \u001b[0mself\u001b[0m\u001b[0;34m.\u001b[0m\u001b[0m_validate_indexer\u001b[0m\u001b[0;34m(\u001b[0m\u001b[0;34m\"positional\"\u001b[0m\u001b[0;34m,\u001b[0m \u001b[0mkey\u001b[0m\u001b[0;34m.\u001b[0m\u001b[0mstart\u001b[0m\u001b[0;34m,\u001b[0m \u001b[0;34m\"iloc\"\u001b[0m\u001b[0;34m)\u001b[0m\u001b[0;34m\u001b[0m\u001b[0;34m\u001b[0m\u001b[0m\n\u001b[0;32m-> 3117\u001b[0;31m         \u001b[0mself\u001b[0m\u001b[0;34m.\u001b[0m\u001b[0m_validate_indexer\u001b[0m\u001b[0;34m(\u001b[0m\u001b[0;34m\"positional\"\u001b[0m\u001b[0;34m,\u001b[0m \u001b[0mkey\u001b[0m\u001b[0;34m.\u001b[0m\u001b[0mstop\u001b[0m\u001b[0;34m,\u001b[0m \u001b[0;34m\"iloc\"\u001b[0m\u001b[0;34m)\u001b[0m\u001b[0;34m\u001b[0m\u001b[0;34m\u001b[0m\u001b[0m\n\u001b[0m\u001b[1;32m   3118\u001b[0m         \u001b[0mself\u001b[0m\u001b[0;34m.\u001b[0m\u001b[0m_validate_indexer\u001b[0m\u001b[0;34m(\u001b[0m\u001b[0;34m\"positional\"\u001b[0m\u001b[0;34m,\u001b[0m \u001b[0mkey\u001b[0m\u001b[0;34m.\u001b[0m\u001b[0mstep\u001b[0m\u001b[0;34m,\u001b[0m \u001b[0;34m\"iloc\"\u001b[0m\u001b[0;34m)\u001b[0m\u001b[0;34m\u001b[0m\u001b[0;34m\u001b[0m\u001b[0m\n\u001b[1;32m   3119\u001b[0m \u001b[0;34m\u001b[0m\u001b[0m\n",
            "\u001b[0;32m/usr/local/lib/python3.6/dist-packages/pandas/core/indexes/base.py\u001b[0m in \u001b[0;36m_validate_indexer\u001b[0;34m(self, form, key, kind)\u001b[0m\n\u001b[1;32m   4991\u001b[0m             \u001b[0;32mpass\u001b[0m\u001b[0;34m\u001b[0m\u001b[0;34m\u001b[0m\u001b[0m\n\u001b[1;32m   4992\u001b[0m         \u001b[0;32melse\u001b[0m\u001b[0;34m:\u001b[0m\u001b[0;34m\u001b[0m\u001b[0;34m\u001b[0m\u001b[0m\n\u001b[0;32m-> 4993\u001b[0;31m             \u001b[0mself\u001b[0m\u001b[0;34m.\u001b[0m\u001b[0m_invalid_indexer\u001b[0m\u001b[0;34m(\u001b[0m\u001b[0mform\u001b[0m\u001b[0;34m,\u001b[0m \u001b[0mkey\u001b[0m\u001b[0;34m)\u001b[0m\u001b[0;34m\u001b[0m\u001b[0;34m\u001b[0m\u001b[0m\n\u001b[0m\u001b[1;32m   4994\u001b[0m \u001b[0;34m\u001b[0m\u001b[0m\n\u001b[1;32m   4995\u001b[0m     \u001b[0;32mdef\u001b[0m \u001b[0m_maybe_cast_slice_bound\u001b[0m\u001b[0;34m(\u001b[0m\u001b[0mself\u001b[0m\u001b[0;34m,\u001b[0m \u001b[0mlabel\u001b[0m\u001b[0;34m,\u001b[0m \u001b[0mside\u001b[0m\u001b[0;34m:\u001b[0m \u001b[0mstr_t\u001b[0m\u001b[0;34m,\u001b[0m \u001b[0mkind\u001b[0m\u001b[0;34m)\u001b[0m\u001b[0;34m:\u001b[0m\u001b[0;34m\u001b[0m\u001b[0;34m\u001b[0m\u001b[0m\n",
            "\u001b[0;32m/usr/local/lib/python3.6/dist-packages/pandas/core/indexes/base.py\u001b[0m in \u001b[0;36m_invalid_indexer\u001b[0;34m(self, form, key)\u001b[0m\n\u001b[1;32m   3262\u001b[0m         \"\"\"\n\u001b[1;32m   3263\u001b[0m         raise TypeError(\n\u001b[0;32m-> 3264\u001b[0;31m             \u001b[0;34mf\"cannot do {form} indexing on {type(self).__name__} with these \"\u001b[0m\u001b[0;34m\u001b[0m\u001b[0;34m\u001b[0m\u001b[0m\n\u001b[0m\u001b[1;32m   3265\u001b[0m             \u001b[0;34mf\"indexers [{key}] of type {type(key).__name__}\"\u001b[0m\u001b[0;34m\u001b[0m\u001b[0;34m\u001b[0m\u001b[0m\n\u001b[1;32m   3266\u001b[0m         )\n",
            "\u001b[0;31mTypeError\u001b[0m: cannot do positional indexing on Index with these indexers [sex] of type str"
          ]
        }
      ]
    },
    {
      "cell_type": "code",
      "metadata": {
        "cell_type": "solution",
        "id": "CpHX4Ge2-r01"
      },
      "source": [
        "#marvel_df.iloc[:5,]['sex'].to_frame()\n",
        "marvel_df.iloc[:5,].sex.to_frame()\n",
        "#marvel_df.head().sex.to_frame()"
      ],
      "execution_count": null,
      "outputs": []
    },
    {
      "cell_type": "markdown",
      "metadata": {
        "id": "uLLpkv18-r03"
      },
      "source": [
        "![green-divider](https://user-images.githubusercontent.com/7065401/52071924-c003ad80-2562-11e9-8297-1c6595f8a7ff.png)\n",
        "\n",
        "### Show the first_appearance of all middle elements on `marvel_df` "
      ]
    },
    {
      "cell_type": "code",
      "metadata": {
        "id": "N_9-3KN3-r03"
      },
      "source": [
        "# your code goes here\n"
      ],
      "execution_count": null,
      "outputs": []
    },
    {
      "cell_type": "code",
      "metadata": {
        "cell_type": "solution",
        "id": "Ey8fGcbL-r05"
      },
      "source": [
        "marvel_df.iloc[1:-1,].first_appearance.to_frame()"
      ],
      "execution_count": null,
      "outputs": []
    },
    {
      "cell_type": "markdown",
      "metadata": {
        "id": "a8yW_L6C-r07"
      },
      "source": [
        "![green-divider](https://user-images.githubusercontent.com/7065401/52071924-c003ad80-2562-11e9-8297-1c6595f8a7ff.png)\n",
        "\n",
        "### Show the first and last elements on `marvel_df`\n"
      ]
    },
    {
      "cell_type": "code",
      "metadata": {
        "id": "IYQQZMsR-r07"
      },
      "source": [
        "# your code goes here\n"
      ],
      "execution_count": null,
      "outputs": []
    },
    {
      "cell_type": "code",
      "metadata": {
        "cell_type": "solution",
        "id": "hwWG23V3-r0-"
      },
      "source": [
        "#marvel_df.iloc[[0, -1],][['sex', 'first_appearance']]\n",
        "marvel_df.iloc[[0, -1],]"
      ],
      "execution_count": null,
      "outputs": []
    },
    {
      "cell_type": "markdown",
      "metadata": {
        "id": "7aZYNz_B-r1A"
      },
      "source": [
        "![purple-divider](https://user-images.githubusercontent.com/7065401/52071927-c1cd7100-2562-11e9-908a-dde91ba14e59.png)\n",
        "\n",
        "## DataFrame manipulation and operations"
      ]
    },
    {
      "cell_type": "markdown",
      "metadata": {
        "id": "xPTr6k-6-r1A"
      },
      "source": [
        "### Modify the `first_appearance` of 'Vision' to year 1964"
      ]
    },
    {
      "cell_type": "code",
      "metadata": {
        "id": "WyyOV0ut-r1B"
      },
      "source": [
        "# your code goes here\n"
      ],
      "execution_count": null,
      "outputs": []
    },
    {
      "cell_type": "code",
      "metadata": {
        "cell_type": "solution",
        "id": "iJh0Xj1L-r1C"
      },
      "source": [
        "marvel_df.loc['Vision', 'first_appearance'] = 1964\n",
        "\n",
        "marvel_df"
      ],
      "execution_count": null,
      "outputs": []
    },
    {
      "cell_type": "markdown",
      "metadata": {
        "id": "AJsGSLOX-r1E"
      },
      "source": [
        "![green-divider](https://user-images.githubusercontent.com/7065401/52071924-c003ad80-2562-11e9-8297-1c6595f8a7ff.png)\n",
        "\n",
        "### Add a new column to `marvel_df` called 'years_since' with the years since `first_appearance`\n"
      ]
    },
    {
      "cell_type": "code",
      "metadata": {
        "id": "hqUx9uNW-r1E"
      },
      "source": [
        "# your code goes here\n"
      ],
      "execution_count": null,
      "outputs": []
    },
    {
      "cell_type": "code",
      "metadata": {
        "cell_type": "solution",
        "id": "9sUij6X8-r1G"
      },
      "source": [
        "marvel_df['years_since'] = 2018 - marvel_df['first_appearance']\n",
        "\n",
        "marvel_df"
      ],
      "execution_count": null,
      "outputs": []
    },
    {
      "cell_type": "markdown",
      "metadata": {
        "id": "WAZ4Hpji-r1I"
      },
      "source": [
        "![purple-divider](https://user-images.githubusercontent.com/7065401/52071927-c1cd7100-2562-11e9-908a-dde91ba14e59.png)\n",
        "\n",
        "## DataFrame boolean arrays (also called masks)"
      ]
    },
    {
      "cell_type": "markdown",
      "metadata": {
        "id": "TW1r1qiq-r1I"
      },
      "source": [
        "### Given the `marvel_df` pandas DataFrame, make a mask showing the female characters\n"
      ]
    },
    {
      "cell_type": "code",
      "metadata": {
        "id": "W5xkCRF7-r1I"
      },
      "source": [
        "# your code goes here\n"
      ],
      "execution_count": null,
      "outputs": []
    },
    {
      "cell_type": "code",
      "metadata": {
        "cell_type": "solution",
        "id": "6nxpall7-r1K"
      },
      "source": [
        "mask = marvel_df['sex'] == 'female'\n",
        "\n",
        "mask"
      ],
      "execution_count": null,
      "outputs": []
    },
    {
      "cell_type": "markdown",
      "metadata": {
        "id": "TyWs_r3a-r1L"
      },
      "source": [
        "![green-divider](https://user-images.githubusercontent.com/7065401/52071924-c003ad80-2562-11e9-8297-1c6595f8a7ff.png)\n",
        "\n",
        "### Given the `marvel_df` pandas DataFrame, get the male characters\n"
      ]
    },
    {
      "cell_type": "code",
      "metadata": {
        "id": "iL4wwaUK-r1M"
      },
      "source": [
        "# your code goes here\n"
      ],
      "execution_count": null,
      "outputs": []
    },
    {
      "cell_type": "code",
      "metadata": {
        "cell_type": "solution",
        "id": "6p36njNe-r1O"
      },
      "source": [
        "mask = marvel_df['sex'] == 'male'\n",
        "\n",
        "marvel_df[mask]"
      ],
      "execution_count": null,
      "outputs": []
    },
    {
      "cell_type": "markdown",
      "metadata": {
        "id": "IGS6wfI9-r1Q"
      },
      "source": [
        "![green-divider](https://user-images.githubusercontent.com/7065401/52071924-c003ad80-2562-11e9-8297-1c6595f8a7ff.png)\n",
        "\n",
        "### Given the `marvel_df` pandas DataFrame, get the characters with `first_appearance` after 1970\n"
      ]
    },
    {
      "cell_type": "code",
      "metadata": {
        "id": "T3OW6LE7-r1R"
      },
      "source": [
        "# your code goes here\n"
      ],
      "execution_count": null,
      "outputs": []
    },
    {
      "cell_type": "code",
      "metadata": {
        "cell_type": "solution",
        "id": "CdbXHUn8-r1S"
      },
      "source": [
        "mask = marvel_df['first_appearance'] > 1970\n",
        "\n",
        "marvel_df[mask]"
      ],
      "execution_count": null,
      "outputs": []
    },
    {
      "cell_type": "markdown",
      "metadata": {
        "id": "zYPhS8lj-r1U"
      },
      "source": [
        "![green-divider](https://user-images.githubusercontent.com/7065401/52071924-c003ad80-2562-11e9-8297-1c6595f8a7ff.png)\n",
        "\n",
        "### Given the `marvel_df` pandas DataFrame, get the female characters with `first_appearance` after 1970"
      ]
    },
    {
      "cell_type": "code",
      "metadata": {
        "id": "N-6uiqt7-r1U"
      },
      "source": [
        "# your code goes here\n"
      ],
      "execution_count": null,
      "outputs": []
    },
    {
      "cell_type": "code",
      "metadata": {
        "cell_type": "solution",
        "scrolled": true,
        "id": "4M8j1pJD-r1W"
      },
      "source": [
        "mask = (marvel_df['sex'] == 'female') & (marvel_df['first_appearance'] > 1970)\n",
        "\n",
        "marvel_df[mask]"
      ],
      "execution_count": null,
      "outputs": []
    },
    {
      "cell_type": "markdown",
      "metadata": {
        "id": "AeJ8nAGY-r1X"
      },
      "source": [
        "![purple-divider](https://user-images.githubusercontent.com/7065401/52071927-c1cd7100-2562-11e9-908a-dde91ba14e59.png)\n",
        "\n",
        "## DataFrame summary statistics"
      ]
    },
    {
      "cell_type": "markdown",
      "metadata": {
        "id": "6ac_hO8M-r1Y"
      },
      "source": [
        "### Show basic statistics of `marvel_df`"
      ]
    },
    {
      "cell_type": "code",
      "metadata": {
        "id": "rOzrOBnW-r1Y"
      },
      "source": [
        "# your code goes here\n"
      ],
      "execution_count": null,
      "outputs": []
    },
    {
      "cell_type": "code",
      "metadata": {
        "cell_type": "solution",
        "id": "Z2FUgje2-r1a"
      },
      "source": [
        "marvel_df.describe()"
      ],
      "execution_count": null,
      "outputs": []
    },
    {
      "cell_type": "markdown",
      "metadata": {
        "id": "JIswp24g-r1b"
      },
      "source": [
        "![green-divider](https://user-images.githubusercontent.com/7065401/52071924-c003ad80-2562-11e9-8297-1c6595f8a7ff.png)\n",
        "\n",
        "### Given the `marvel_df` pandas DataFrame, show the mean value of `first_appearance`"
      ]
    },
    {
      "cell_type": "code",
      "metadata": {
        "id": "ZgZru4U1-r1d"
      },
      "source": [
        "# your code goes here\n"
      ],
      "execution_count": null,
      "outputs": []
    },
    {
      "cell_type": "code",
      "metadata": {
        "cell_type": "solution",
        "id": "V55qC_TB-r1f"
      },
      "source": [
        "\n",
        "#np.mean(marvel_df.first_appearance)\n",
        "marvel_df.first_appearance.mean()"
      ],
      "execution_count": null,
      "outputs": []
    },
    {
      "cell_type": "markdown",
      "metadata": {
        "id": "n5ehw9Lc-r1h"
      },
      "source": [
        "![green-divider](https://user-images.githubusercontent.com/7065401/52071924-c003ad80-2562-11e9-8297-1c6595f8a7ff.png)\n",
        "\n",
        "### Given the `marvel_df` pandas DataFrame, show the min value of `first_appearance`\n"
      ]
    },
    {
      "cell_type": "code",
      "metadata": {
        "id": "Cmsd_cK4-r1i"
      },
      "source": [
        "# your code goes here\n"
      ],
      "execution_count": null,
      "outputs": []
    },
    {
      "cell_type": "code",
      "metadata": {
        "cell_type": "solution",
        "id": "DH2RiuYP-r1j"
      },
      "source": [
        "#np.min(marvel_df.first_appearance)\n",
        "marvel_df.first_appearance.min()"
      ],
      "execution_count": null,
      "outputs": []
    },
    {
      "cell_type": "markdown",
      "metadata": {
        "id": "2wty7HX--r1l"
      },
      "source": [
        "![green-divider](https://user-images.githubusercontent.com/7065401/52071924-c003ad80-2562-11e9-8297-1c6595f8a7ff.png)\n",
        "\n",
        "### Given the `marvel_df` pandas DataFrame, get the characters with the min value of `first_appearance`"
      ]
    },
    {
      "cell_type": "code",
      "metadata": {
        "id": "RK-irj0r-r1l"
      },
      "source": [
        "# your code goes here\n"
      ],
      "execution_count": null,
      "outputs": []
    },
    {
      "cell_type": "code",
      "metadata": {
        "cell_type": "solution",
        "id": "M1IUN6sJ-r1n"
      },
      "source": [
        "mask = marvel_df['first_appearance'] == marvel_df.first_appearance.min()\n",
        "marvel_df[mask]"
      ],
      "execution_count": null,
      "outputs": []
    },
    {
      "cell_type": "markdown",
      "metadata": {
        "id": "QhN5rhGk-r1o"
      },
      "source": [
        "![purple-divider](https://user-images.githubusercontent.com/7065401/52071927-c1cd7100-2562-11e9-908a-dde91ba14e59.png)\n",
        "\n",
        "## DataFrame basic plottings"
      ]
    },
    {
      "cell_type": "markdown",
      "metadata": {
        "id": "irPS7XFu-r1p"
      },
      "source": [
        "### Reset index names of `marvel_df`\n"
      ]
    },
    {
      "cell_type": "code",
      "metadata": {
        "id": "-5tODG17-r1q"
      },
      "source": [
        "# your code goes here\n"
      ],
      "execution_count": null,
      "outputs": []
    },
    {
      "cell_type": "code",
      "metadata": {
        "cell_type": "solution",
        "id": "2YkRefBz-r1r"
      },
      "source": [
        "marvel_df = marvel_df.reset_index()\n",
        "\n",
        "marvel_df"
      ],
      "execution_count": null,
      "outputs": []
    },
    {
      "cell_type": "markdown",
      "metadata": {
        "id": "yIilu7sP-r1t"
      },
      "source": [
        "![green-divider](https://user-images.githubusercontent.com/7065401/52071924-c003ad80-2562-11e9-8297-1c6595f8a7ff.png)\n",
        "\n",
        "### Plot the values of `first_appearance`\n"
      ]
    },
    {
      "cell_type": "code",
      "metadata": {
        "id": "zSmGJXnG-r1t"
      },
      "source": [
        "# your code goes here\n"
      ],
      "execution_count": null,
      "outputs": []
    },
    {
      "cell_type": "code",
      "metadata": {
        "cell_type": "solution",
        "id": "n3fAuaYv-r1w"
      },
      "source": [
        "#plt.plot(marvel_df.index, marvel_df.first_appearance)\n",
        "marvel_df.first_appearance.plot()"
      ],
      "execution_count": null,
      "outputs": []
    },
    {
      "cell_type": "markdown",
      "metadata": {
        "id": "oxowWGYG-r1y"
      },
      "source": [
        "![green-divider](https://user-images.githubusercontent.com/7065401/52071924-c003ad80-2562-11e9-8297-1c6595f8a7ff.png)\n",
        "\n",
        "### Plot a histogram (plot.hist) with values of `first_appearance`\n"
      ]
    },
    {
      "cell_type": "code",
      "metadata": {
        "id": "FPJlvj2J-r1y"
      },
      "source": [
        "# your code goes here\n"
      ],
      "execution_count": null,
      "outputs": []
    },
    {
      "cell_type": "code",
      "metadata": {
        "cell_type": "solution",
        "id": "u8CUieM5-r10"
      },
      "source": [
        "\n",
        "plt.hist(marvel_df.first_appearance)"
      ],
      "execution_count": null,
      "outputs": []
    },
    {
      "cell_type": "markdown",
      "metadata": {
        "id": "TFwqaDXi-r12"
      },
      "source": [
        "![purple-divider](https://user-images.githubusercontent.com/7065401/52071927-c1cd7100-2562-11e9-908a-dde91ba14e59.png)\n"
      ]
    }
  ]
}